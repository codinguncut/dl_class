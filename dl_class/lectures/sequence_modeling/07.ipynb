{
 "cells": [
  {
   "cell_type": "code",
   "execution_count": null,
   "metadata": {},
   "outputs": [],
   "source": [
    "%pylab inline\n",
    "import torch\n",
    "docs = open('docs.txt').read()\n",
    "char_set = np.unique(list(docs))\n",
    "device = torch.device('cuda') if torch.cuda.is_available() else torch.device('cpu')\n",
    "print('device = ', device)"
   ]
  },
  {
   "cell_type": "code",
   "execution_count": null,
   "metadata": {},
   "outputs": [],
   "source": [
    "one_hot = torch.as_tensor(np.array(list(docs))[None,:] == np.array(char_set)[:,None]).float()\n",
    "\n",
    "def make_random_batch(batch_size, seq_len):\n",
    "    B = []\n",
    "    for i in range(batch_size):\n",
    "        s = np.random.choice(one_hot.size(1)-seq_len)\n",
    "        B.append(one_hot[:,s:s+seq_len])\n",
    "    return torch.stack(B, dim=0)"
   ]
  },
  {
   "cell_type": "code",
   "execution_count": null,
   "metadata": {},
   "outputs": [],
   "source": [
    "class TCN(torch.nn.Module):\n",
    "    def __init__(self, layers=[32,64,128,256]):\n",
    "        super().__init__()\n",
    "        c = len(char_set)\n",
    "        L = []\n",
    "        total_dilation = 1\n",
    "        for l in layers:\n",
    "            L.append(torch.nn.ConstantPad1d((2*total_dilation,0), 0))\n",
    "            L.append(torch.nn.Conv1d(c, l, 3, dilation=total_dilation))\n",
    "            L.append(torch.nn.ReLU())\n",
    "            total_dilation *= 2\n",
    "            c = l\n",
    "        self.network = torch.nn.Sequential(*L)\n",
    "        self.classifier = torch.nn.Conv1d(c, len(char_set), 1)\n",
    "\n",
    "    def forward(self, x):\n",
    "        return self.classifier(self.network(x))\n",
    "\n",
    "tcn = TCN()"
   ]
  },
  {
   "cell_type": "code",
   "execution_count": null,
   "metadata": {},
   "outputs": [],
   "source": [
    "tcn(one_hot[None,:,:100]).shape"
   ]
  },
  {
   "cell_type": "code",
   "execution_count": null,
   "metadata": {},
   "outputs": [],
   "source": [
    "%load_ext tensorboard\n",
    "import tempfile\n",
    "log_dir = tempfile.mkdtemp()\n",
    "%tensorboard --logdir {log_dir} --reload_interval 1"
   ]
  },
  {
   "cell_type": "code",
   "execution_count": null,
   "metadata": {},
   "outputs": [],
   "source": [
    "import torch.utils.tensorboard as tb\n",
    "n_iterations = 10000\n",
    "batch_size = 128\n",
    "seq_len = 256\n",
    "\n",
    "logger = tb.SummaryWriter(log_dir+'/tcn1', flush_secs=1)\n",
    "\n",
    "# Create the network\n",
    "tcn = TCN().to(device)\n",
    "\n",
    "# Create the optimizer\n",
    "optimizer = torch.optim.Adam(tcn.parameters())\n",
    "\n",
    "# Create the loss\n",
    "loss = torch.nn.CrossEntropyLoss()\n",
    "\n",
    "one_hot = one_hot.to(device)\n",
    "\n",
    "# Start training\n",
    "for iterations in range(n_iterations):\n",
    "    batch = make_random_batch(batch_size, seq_len+1)\n",
    "    batch_data = batch[:,:,:-1]\n",
    "    batch_label = batch[:,:,1:].argmax(dim=1)\n",
    "    \n",
    "    o = tcn(batch_data)\n",
    "    loss_val = loss(o, batch_label)\n",
    "    \n",
    "    logger.add_scalar('train/loss', loss_val, global_step=iterations)\n",
    "    \n",
    "    optimizer.zero_grad()\n",
    "    loss_val.backward()\n",
    "    optimizer.step()"
   ]
  },
  {
   "cell_type": "code",
   "execution_count": null,
   "metadata": {},
   "outputs": [],
   "source": [
    "# Inference\n",
    "def sample(m, length=100):\n",
    "    S = list(\"Model\")\n",
    "    for i in range(length):\n",
    "        data = torch.as_tensor(np.array(S)[None,:] == np.array(char_set)[:,None]).float()\n",
    "        o = m(data[None])[0,:,-1]\n",
    "        s = torch.distributions.Categorical(logits=o).sample()\n",
    "        S.append(char_set[s])\n",
    "    return \"\".join(S)\n",
    "\n",
    "print( sample(tcn.cpu()) )"
   ]
  },
  {
   "cell_type": "code",
   "execution_count": null,
   "metadata": {},
   "outputs": [],
   "source": []
  }
 ],
 "metadata": {
  "kernelspec": {
   "display_name": "Python 3",
   "language": "python",
   "name": "python3"
  },
  "language_info": {
   "codemirror_mode": {
    "name": "ipython",
    "version": 3
   },
   "file_extension": ".py",
   "mimetype": "text/x-python",
   "name": "python",
   "nbconvert_exporter": "python",
   "pygments_lexer": "ipython3",
   "version": "3.7.3"
  }
 },
 "nbformat": 4,
 "nbformat_minor": 2
}
