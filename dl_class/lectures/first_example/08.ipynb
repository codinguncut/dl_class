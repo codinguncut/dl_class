{
 "cells": [
  {
   "cell_type": "code",
   "execution_count": null,
   "metadata": {},
   "outputs": [],
   "source": [
    "%pylab inline\n",
    "import torch\n",
    "from torch.nn.parameter import Parameter"
   ]
  },
  {
   "cell_type": "code",
   "execution_count": null,
   "metadata": {},
   "outputs": [],
   "source": [
    "x = torch.rand([1000,2])\n",
    "x_in_circle = ((x**2).sum(1) < 1)\n",
    "\n",
    "def accuracy(pred_label):\n",
    "    return (pred_label==x_in_circle).float().mean()\n",
    "\n",
    "def show(pred_label):\n",
    "    scatter(*x.numpy().T, c=pred_label.numpy())\n",
    "    axis('equal')\n",
    "\n",
    "def loss(prediction):\n",
    "    return -(x_in_circle.float()     * prediction.log() +\n",
    "             (1-x_in_circle.float()) * (1-prediction).log() ).mean()\n",
    "\n",
    "show(x_in_circle)"
   ]
  },
  {
   "cell_type": "code",
   "execution_count": null,
   "metadata": {},
   "outputs": [],
   "source": [
    "class Linear(torch.nn.Module):\n",
    "    def __init__(self, input_dim):\n",
    "        super().__init__()\n",
    "        self.w = Parameter(torch.ones(input_dim))\n",
    "        self.b = Parameter(-torch.ones(1))\n",
    "    \n",
    "    def forward(self, x):\n",
    "        return (x * self.w[None,:]).sum(dim=1) + self.b\n",
    "\n",
    "class LinearClassifier(torch.nn.Module):\n",
    "    def __init__(self, input_dim):\n",
    "        super().__init__()\n",
    "        self.linear = Linear(input_dim)\n",
    "    \n",
    "    def forward(self, x):\n",
    "        logit = self.linear(x)\n",
    "        return 1/(1+(-logit).exp())\n",
    "\n",
    "\n",
    "classifier = LinearClassifier(2)\n",
    "\n",
    "show(classifier(x).detach() > 0.5)"
   ]
  },
  {
   "cell_type": "code",
   "execution_count": null,
   "metadata": {},
   "outputs": [],
   "source": [
    "list(classifier.parameters())"
   ]
  },
  {
   "cell_type": "code",
   "execution_count": null,
   "metadata": {},
   "outputs": [],
   "source": []
  }
 ],
 "metadata": {
  "kernelspec": {
   "display_name": "Python 3",
   "language": "python",
   "name": "python3"
  },
  "language_info": {
   "codemirror_mode": {
    "name": "ipython",
    "version": 3
   },
   "file_extension": ".py",
   "mimetype": "text/x-python",
   "name": "python",
   "nbconvert_exporter": "python",
   "pygments_lexer": "ipython3",
   "version": "3.7.3"
  }
 },
 "nbformat": 4,
 "nbformat_minor": 2
}
