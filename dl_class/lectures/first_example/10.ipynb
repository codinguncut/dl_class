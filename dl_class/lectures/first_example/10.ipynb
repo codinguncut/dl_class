{
 "cells": [
  {
   "cell_type": "code",
   "execution_count": null,
   "metadata": {},
   "outputs": [],
   "source": [
    "%pylab inline\n",
    "import torch\n",
    "from torch.nn.parameter import Parameter"
   ]
  },
  {
   "cell_type": "code",
   "execution_count": null,
   "metadata": {},
   "outputs": [],
   "source": [
    "x = torch.rand([1000,2])\n",
    "x_in_circle = ((x**2).sum(1) < 1)\n",
    "\n",
    "def accuracy(pred_label):\n",
    "    return (pred_label==x_in_circle).float().mean()\n",
    "\n",
    "def show(pred_label):\n",
    "    scatter(*x.numpy().T, c=pred_label.numpy())\n",
    "    axis('equal')\n",
    "\n",
    "def loss(prediction):\n",
    "    return -(x_in_circle.float()     * (prediction+1e-10).log() +\n",
    "             (1-x_in_circle.float()) * (1-prediction+1e-10).log() ).mean()\n",
    "\n",
    "class Linear(torch.nn.Module):\n",
    "    def __init__(self, input_dim):\n",
    "        super().__init__()\n",
    "        self.w = Parameter(torch.zeros(input_dim))\n",
    "        self.b = Parameter(-torch.zeros(1))\n",
    "    \n",
    "    def forward(self, x):\n",
    "        return (x * self.w[None,:]).sum(dim=1) + self.b\n",
    "\n",
    "class LinearClassifier(torch.nn.Module):\n",
    "    def __init__(self, input_dim):\n",
    "        super().__init__()\n",
    "        self.linear = Linear(input_dim)\n",
    "    \n",
    "    def forward(self, x):\n",
    "        logit = self.linear(x)\n",
    "        return 1/(1+(-logit).exp())\n",
    "\n",
    "show(x_in_circle)"
   ]
  },
  {
   "cell_type": "code",
   "execution_count": null,
   "metadata": {},
   "outputs": [],
   "source": [
    "import torch.utils.tensorboard as tb\n",
    "%load_ext tensorboard\n",
    "import tempfile\n",
    "log_dir = tempfile.mkdtemp()\n",
    "%tensorboard --logdir {log_dir} --reload_interval 1"
   ]
  },
  {
   "cell_type": "code",
   "execution_count": null,
   "metadata": {},
   "outputs": [],
   "source": [
    "logger = tb.SummaryWriter(log_dir+'/linear1')\n",
    "\n",
    "classifier = LinearClassifier(2)\n",
    "\n",
    "for iteration in range(10000):\n",
    "    p_y = classifier(x)\n",
    "    pred_y = p_y > 0.5\n",
    "    l = loss(p_y)\n",
    "    \n",
    "    logger.add_scalar(\"loss\", l, global_step=iteration)\n",
    "    logger.add_scalar(\"accuracy\", accuracy(pred_y), global_step=iteration)\n",
    "    \n",
    "    if iteration % 100 == 0:\n",
    "        fig = figure()\n",
    "        show(pred_y)\n",
    "        logger.add_figure('pred_y', fig, global_step=iteration)\n",
    "        del fig\n",
    "    \n",
    "    l.backward()\n",
    "    for p in classifier.parameters():\n",
    "        p.data[:] -= 0.5 * p.grad \n",
    "        p.grad.zero_()\n",
    "\n",
    "show(pred_y)"
   ]
  },
  {
   "cell_type": "code",
   "execution_count": null,
   "metadata": {},
   "outputs": [],
   "source": [
    "class NonLinearClassifier(torch.nn.Module):\n",
    "    def __init__(self, input_dim):\n",
    "        super().__init__()\n",
    "        self.linear1 = torch.nn.Linear(input_dim, 100)\n",
    "        torch.nn.init.normal_(self.linear1.weight, std=0.01)\n",
    "        torch.nn.init.normal_(self.linear1.bias, std=0.01)\n",
    "        self.linear2 = Linear(100)\n",
    "    \n",
    "    def forward(self, x):\n",
    "        logit = self.linear2( torch.relu(self.linear1(x)) )\n",
    "        return 1/(1+(-logit).exp())\n",
    "\n",
    "\n",
    "classifier = NonLinearClassifier(2)\n",
    "show(classifier(x).detach() > 0.5)"
   ]
  },
  {
   "cell_type": "code",
   "execution_count": null,
   "metadata": {},
   "outputs": [],
   "source": [
    "logger = tb.SummaryWriter(log_dir+'/nonlinear1')\n",
    "\n",
    "classifier = NonLinearClassifier(2)\n",
    "\n",
    "for iteration in range(10000):\n",
    "    p_y = classifier(x)\n",
    "    pred_y = p_y > 0.5\n",
    "    l = loss(p_y)\n",
    "    \n",
    "    logger.add_scalar(\"loss\", l, global_step=iteration)\n",
    "    logger.add_scalar(\"accuracy\", accuracy(pred_y), global_step=iteration)\n",
    "    \n",
    "    if iteration % 100 == 0:\n",
    "        fig = figure()\n",
    "        show(pred_y)\n",
    "        logger.add_figure('pred_y', fig, global_step=iteration)\n",
    "        del fig\n",
    "    \n",
    "    l.backward()\n",
    "    for p in classifier.parameters():\n",
    "        p.data[:] -= 0.5 * p.grad\n",
    "        p.grad.zero_()\n",
    "\n",
    "show(pred_y)"
   ]
  },
  {
   "cell_type": "code",
   "execution_count": null,
   "metadata": {},
   "outputs": [],
   "source": []
  }
 ],
 "metadata": {
  "kernelspec": {
   "display_name": "Python 3",
   "language": "python",
   "name": "python3"
  },
  "language_info": {
   "codemirror_mode": {
    "name": "ipython",
    "version": 3
   },
   "file_extension": ".py",
   "mimetype": "text/x-python",
   "name": "python",
   "nbconvert_exporter": "python",
   "pygments_lexer": "ipython3",
   "version": "3.7.3"
  }
 },
 "nbformat": 4,
 "nbformat_minor": 2
}
