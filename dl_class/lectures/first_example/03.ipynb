{
 "cells": [
  {
   "cell_type": "code",
   "execution_count": null,
   "metadata": {},
   "outputs": [],
   "source": [
    "%pylab inline\n",
    "import torch"
   ]
  },
  {
   "cell_type": "code",
   "execution_count": null,
   "metadata": {},
   "outputs": [],
   "source": [
    "x = torch.rand([1000,2])\n",
    "scatter(*x.numpy().T)\n",
    "axis('equal')"
   ]
  },
  {
   "cell_type": "code",
   "execution_count": null,
   "metadata": {},
   "outputs": [],
   "source": [
    "x_in_circle = (x**2).sum(1) < 1\n",
    "\n",
    "scatter(*x.numpy().T, c=x_in_circle.numpy())\n",
    "axis('equal')"
   ]
  },
  {
   "cell_type": "code",
   "execution_count": null,
   "metadata": {},
   "outputs": [],
   "source": [
    "weights = torch.as_tensor([1,1], dtype=torch.float)\n",
    "bias = torch.as_tensor(-1, dtype=torch.float)\n",
    "\n",
    "def classify(x, weights, bias):\n",
    "    return (x * weights[None,:]).sum(dim=1) + bias > 0\n",
    "\n",
    "def accuracy(pred_label):\n",
    "    return (pred_label==x_in_circle).float().mean()\n",
    "\n",
    "def show(y):\n",
    "    scatter(*x.numpy().T, c=y.detach().numpy())\n",
    "    axis('equal')\n",
    "\n",
    "pred_y = classify(x, weights, bias)\n",
    "show(pred_y)\n",
    "print('accuracy', accuracy(pred_y))"
   ]
  },
  {
   "cell_type": "code",
   "execution_count": null,
   "metadata": {},
   "outputs": [],
   "source": [
    "def predict(x, weights, bias):\n",
    "    logit = (x * weights[None,:]).sum(dim=1) + bias\n",
    "    return 1/(1+(-logit).exp())\n",
    "\n",
    "def loss(prediction):\n",
    "    return -(x_in_circle.float()     * (prediction+1e-10).log() +\n",
    "             (1-x_in_circle.float()) * (1-prediction+1e-10).log() ).mean()\n",
    "\n",
    "p_y = predict(x, weights, bias)\n",
    "print( 'loss =', loss(p_y), 'accuracy =', accuracy(pred_y) )"
   ]
  },
  {
   "cell_type": "code",
   "execution_count": null,
   "metadata": {},
   "outputs": [],
   "source": [
    "weights = torch.as_tensor([-1,-1], dtype=torch.float)\n",
    "bias = torch.as_tensor(1.0, dtype=torch.float)\n",
    "\n",
    "pred_y = classify(x, weights, bias)\n",
    "p_y = predict(x, weights, bias)\n",
    "\n",
    "show(pred_y)\n",
    "print( 'loss =', loss(p_y), 'accuracy =', accuracy(pred_y) )"
   ]
  },
  {
   "cell_type": "code",
   "execution_count": null,
   "metadata": {},
   "outputs": [],
   "source": [
    "weights = torch.as_tensor([-1,-1], dtype=torch.float)\n",
    "bias = torch.as_tensor(1.2, dtype=torch.float)\n",
    "\n",
    "pred_y = classify(x, weights, bias)\n",
    "p_y = predict(x, weights, bias)\n",
    "\n",
    "show(pred_y)\n",
    "print( 'loss =', loss(p_y), 'accuracy =', accuracy(pred_y) )"
   ]
  },
  {
   "cell_type": "code",
   "execution_count": null,
   "metadata": {},
   "outputs": [],
   "source": []
  }
 ],
 "metadata": {
  "kernelspec": {
   "display_name": "Python 3",
   "language": "python",
   "name": "python3"
  },
  "language_info": {
   "codemirror_mode": {
    "name": "ipython",
    "version": 3
   },
   "file_extension": ".py",
   "mimetype": "text/x-python",
   "name": "python",
   "nbconvert_exporter": "python",
   "pygments_lexer": "ipython3",
   "version": "3.7.3"
  }
 },
 "nbformat": 4,
 "nbformat_minor": 2
}
