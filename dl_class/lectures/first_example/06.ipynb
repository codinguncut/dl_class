{
 "cells": [
  {
   "cell_type": "code",
   "execution_count": null,
   "metadata": {},
   "outputs": [],
   "source": [
    "%pylab inline\n",
    "import torch"
   ]
  },
  {
   "cell_type": "code",
   "execution_count": null,
   "metadata": {},
   "outputs": [],
   "source": [
    "x = torch.rand([1000,2])\n",
    "x_in_circle = (x**2).sum(1) < 1\n",
    "\n",
    "def classify(x, weights, bias):\n",
    "    return (x * weights[None,:]).sum(dim=1) + bias > 0\n",
    "\n",
    "def accuracy(pred_label):\n",
    "    return (pred_label==x_in_circle).float().mean()\n",
    "\n",
    "def show(y):\n",
    "    scatter(*x.numpy().T, c=y.detach().numpy())\n",
    "    axis('equal')\n",
    "\n",
    "def predict(x, weights, bias):\n",
    "    logit = (x * weights[None,:]).sum(dim=1) + bias\n",
    "    return 1/(1+(-logit).exp())\n",
    "\n",
    "def loss(prediction):\n",
    "    return ( -x_in_circle.float()     * prediction.log() +\n",
    "             -(1-x_in_circle.float()) * (1-prediction).log() ).mean()\n",
    "\n",
    "show(x_in_circle)"
   ]
  },
  {
   "cell_type": "code",
   "execution_count": null,
   "metadata": {},
   "outputs": [],
   "source": [
    "weights = torch.as_tensor([-1,-1], dtype=torch.float)\n",
    "bias = torch.as_tensor(1.0, dtype=torch.float)\n",
    "\n",
    "pred_y = classify(x, weights, bias)\n",
    "p_y = predict(x, weights, bias)\n",
    "\n",
    "show(pred_y)"
   ]
  },
  {
   "cell_type": "code",
   "execution_count": null,
   "metadata": {},
   "outputs": [],
   "source": [
    "import torch.utils.tensorboard as tb\n",
    "%load_ext tensorboard\n",
    "import tempfile\n",
    "log_dir = tempfile.mkdtemp()\n",
    "%tensorboard --logdir {log_dir} --reload_interval 1"
   ]
  },
  {
   "cell_type": "code",
   "execution_count": null,
   "metadata": {},
   "outputs": [],
   "source": [
    "logger = tb.SummaryWriter(log_dir+'/linear1')\n",
    "\n",
    "weights = torch.as_tensor([-1,-1], dtype=torch.float)\n",
    "bias = torch.as_tensor(1.0, dtype=torch.float)\n",
    "label = x_in_circle.float()\n",
    "for iteration in range(5000):\n",
    "    p_y = predict(x, weights, bias)\n",
    "    pred_y = classify(x, weights, bias)\n",
    "    \n",
    "    l = loss(p_y)\n",
    "    \n",
    "    logger.add_scalar(\"loss\", l, global_step=iteration)\n",
    "    logger.add_scalar(\"accuracy\", accuracy(pred_y), global_step=iteration)\n",
    "    if iteration % 10 == 0:\n",
    "        fig = figure()\n",
    "        show(pred_y)\n",
    "        logger.add_figure('pred_y', fig, global_step=iteration)\n",
    "        del fig\n",
    "    \n",
    "    # Gradient computation\n",
    "    gradient_l_f = p_y - label.float()\n",
    "    gradient_w = (gradient_l_f[:,None]*x).mean(0)\n",
    "    gradient_b = (gradient_l_f).mean(0)\n",
    "    \n",
    "    # Gradient update\n",
    "    weights -= 0.5*gradient_w\n",
    "    bias    -= 0.5*gradient_b\n",
    "\n",
    "show(pred_y)"
   ]
  },
  {
   "cell_type": "code",
   "execution_count": null,
   "metadata": {},
   "outputs": [],
   "source": []
  }
 ],
 "metadata": {
  "kernelspec": {
   "display_name": "Python 3",
   "language": "python",
   "name": "python3"
  },
  "language_info": {
   "codemirror_mode": {
    "name": "ipython",
    "version": 3
   },
   "file_extension": ".py",
   "mimetype": "text/x-python",
   "name": "python",
   "nbconvert_exporter": "python",
   "pygments_lexer": "ipython3",
   "version": "3.7.3"
  }
 },
 "nbformat": 4,
 "nbformat_minor": 2
}
