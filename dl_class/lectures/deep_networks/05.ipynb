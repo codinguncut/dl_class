{
 "cells": [
  {
   "cell_type": "code",
   "execution_count": null,
   "metadata": {},
   "outputs": [],
   "source": [
    "%pylab inline\n",
    "import torch\n",
    "# Making sure we can find the data loader\n",
    "import sys\n",
    "sys.path.append('..')\n",
    "sys.path.append('../..')\n",
    "from data import load"
   ]
  },
  {
   "cell_type": "code",
   "execution_count": null,
   "metadata": {},
   "outputs": [],
   "source": [
    "# Let's load the dataset\n",
    "train_data, train_label = load.get_dogs_and_cats_data(resize=(32,32), n_images=100)\n",
    "input_size = 32*32*3\n",
    "to_image = load.to_image_transform()"
   ]
  },
  {
   "cell_type": "code",
   "execution_count": null,
   "metadata": {},
   "outputs": [],
   "source": [
    "figure(figsize=(9,9))\n",
    "# Plot the first 9 images (all cats)\n",
    "for i, (data, label) in enumerate(zip(train_data[:9],train_label[:9])):\n",
    "    subplot(3,3,1+i)\n",
    "    imshow(to_image(data))\n",
    "    title('label = %d'%label)\n",
    "    axis('off')"
   ]
  },
  {
   "cell_type": "code",
   "execution_count": null,
   "metadata": {},
   "outputs": [],
   "source": [
    "class Network1(torch.nn.Module):\n",
    "    def __init__(self, n_hidden=100):\n",
    "        super().__init__()\n",
    "        self.linear1 = torch.nn.Linear(input_size, n_hidden)\n",
    "        self.activation = torch.nn.ReLU()\n",
    "        self.linear2 = torch.nn.Linear(n_hidden, 1)\n",
    "    \n",
    "    def forward(self, x):\n",
    "        return self.linear2(self.activation(self.linear1(x.view(x.size(0), -1))))\n"
   ]
  },
  {
   "cell_type": "code",
   "execution_count": null,
   "metadata": {},
   "outputs": [],
   "source": [
    "# Create the network\n",
    "net1 = Network1(100)\n",
    "# Run an image through it\n",
    "print( net1(train_data).view(-1).detach().numpy() )"
   ]
  },
  {
   "cell_type": "code",
   "execution_count": null,
   "metadata": {},
   "outputs": [],
   "source": [
    "class Network2(torch.nn.Module):\n",
    "    def __init__(self, *hidden_size):\n",
    "        super().__init__()\n",
    "        layers = []\n",
    "        # Add the hidden layers\n",
    "        n_in = input_size\n",
    "        for n_out in hidden_size:\n",
    "            layers.append(torch.nn.Linear(n_in, n_out))\n",
    "            layers.append(torch.nn.ReLU())\n",
    "            n_in = n_out\n",
    "        \n",
    "        # Add the classifier\n",
    "        layers.append(torch.nn.Linear(n_out, 1))\n",
    "        self.network = torch.nn.Sequential(*layers)\n",
    "    \n",
    "    def forward(self, x):\n",
    "        return self.network(x.view(x.size(0), -1))"
   ]
  },
  {
   "cell_type": "code",
   "execution_count": null,
   "metadata": {},
   "outputs": [],
   "source": [
    "# Create the network\n",
    "net2 = Network2(100, 50, 50)\n",
    "# Run an image through it\n",
    "print( net2(train_data).view(-1).detach().numpy() )"
   ]
  },
  {
   "cell_type": "code",
   "execution_count": null,
   "metadata": {},
   "outputs": [],
   "source": [
    "plot( net2(train_data[train_label==0]).view(-1).detach().numpy(), '*', label='cats')\n",
    "plot( net2(train_data[train_label==1]).view(-1).detach().numpy(), '*', label='dogs')\n",
    "hlines(net2(train_data).mean(), 0, 50)\n",
    "legend()"
   ]
  },
  {
   "cell_type": "code",
   "execution_count": null,
   "metadata": {},
   "outputs": [],
   "source": []
  }
 ],
 "metadata": {
  "kernelspec": {
   "display_name": "Python 3",
   "language": "python",
   "name": "python3"
  },
  "language_info": {
   "codemirror_mode": {
    "name": "ipython",
    "version": 3
   },
   "file_extension": ".py",
   "mimetype": "text/x-python",
   "name": "python",
   "nbconvert_exporter": "python",
   "pygments_lexer": "ipython3",
   "version": "3.7.3"
  }
 },
 "nbformat": 4,
 "nbformat_minor": 2
}
