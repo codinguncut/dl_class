{
 "cells": [
  {
   "cell_type": "code",
   "execution_count": null,
   "metadata": {},
   "outputs": [],
   "source": [
    "%pylab inline\n",
    "import torch\n",
    "# Making sure we can find the data loader\n",
    "import sys\n",
    "sys.path.append('..')\n",
    "sys.path.append('../..')\n",
    "from data import load\n",
    "device = torch.device('cuda') if torch.cuda.is_available() else torch.device('cpu')\n",
    "print('device = ', device)"
   ]
  },
  {
   "cell_type": "code",
   "execution_count": null,
   "metadata": {},
   "outputs": [],
   "source": [
    "# Let's load the dataset\n",
    "train_data, train_label = load.get_dogs_and_cats_data(resize=(32,32))\n",
    "valid_data, valid_label = load.get_dogs_and_cats_data(split='valid', resize=(32,32))\n",
    "input_size = 32*32*3\n",
    "to_image = load.to_image_transform()\n",
    "\n",
    "train_data, train_label = train_data.to(device), train_label.to(device)\n",
    "valid_data, valid_label = valid_data.to(device), valid_label.to(device)"
   ]
  },
  {
   "cell_type": "code",
   "execution_count": null,
   "metadata": {},
   "outputs": [],
   "source": [
    "class Network2(torch.nn.Module):\n",
    "    def __init__(self, *hidden_size):\n",
    "        super().__init__()\n",
    "        layers = []\n",
    "        # Add the hidden layers\n",
    "        n_in = input_size\n",
    "        for n_out in hidden_size:\n",
    "            layers.append(torch.nn.Linear(n_in, n_out))\n",
    "            layers.append(torch.nn.ReLU())\n",
    "            n_in = n_out\n",
    "        \n",
    "        # Add the classifier\n",
    "        layers.append(torch.nn.Linear(n_out, 1))\n",
    "        self.network = torch.nn.Sequential(*layers)\n",
    "    \n",
    "    def forward(self, x):\n",
    "        return self.network(x.view(x.size(0), -1)).view(-1)"
   ]
  },
  {
   "cell_type": "code",
   "execution_count": null,
   "metadata": {},
   "outputs": [],
   "source": [
    "%load_ext tensorboard\n",
    "import tempfile\n",
    "log_dir = tempfile.mkdtemp()\n",
    "%tensorboard --logdir {log_dir} --reload_interval 1"
   ]
  },
  {
   "cell_type": "code",
   "execution_count": null,
   "metadata": {},
   "outputs": [],
   "source": [
    "import torch.utils.tensorboard as tb\n",
    "n_epochs = 100\n",
    "batch_size = 128\n",
    "\n",
    "train_logger = tb.SummaryWriter(log_dir+'/deepnet1/train', flush_secs=1)\n",
    "valid_logger = tb.SummaryWriter(log_dir+'/deepnet1/valid', flush_secs=1)\n",
    "\n",
    "# Create the network\n",
    "net2 = Network2(100,50,50).to(device)\n",
    "\n",
    "# Create the optimizer\n",
    "optimizer = torch.optim.SGD(net2.parameters(), lr=0.01, momentum=0.9, weight_decay=1e-4)\n",
    "\n",
    "# Create the loss\n",
    "loss = torch.nn.BCEWithLogitsLoss()\n",
    "\n",
    "# Start training\n",
    "global_step = 0\n",
    "for epoch in range(n_epochs):\n",
    "    # Shuffle the data\n",
    "    permutation = torch.randperm(train_data.size(0))\n",
    "    \n",
    "    # Iterate\n",
    "    train_accuracy = []\n",
    "    for it in range(0, len(permutation)-batch_size+1, batch_size):\n",
    "        batch_samples = permutation[it:it+batch_size]\n",
    "        batch_data, batch_label = train_data[batch_samples], train_label[batch_samples]\n",
    "        \n",
    "        # Compute the loss\n",
    "        o = net2(batch_data)\n",
    "        loss_val = loss(o, batch_label.float())\n",
    "        \n",
    "        train_logger.add_scalar('train/loss', loss_val, global_step=global_step)\n",
    "        # Compute the accuracy\n",
    "        train_accuracy.extend(((o > 0).long() == batch_label).cpu().detach().numpy())\n",
    "        \n",
    "        optimizer.zero_grad()\n",
    "        loss_val.backward()\n",
    "        optimizer.step()\n",
    "        \n",
    "        # Increase the global step\n",
    "        global_step += 1\n",
    "    \n",
    "    # Evaluate the model\n",
    "    valid_pred = net2(valid_data) > 0\n",
    "    valid_accuracy = float((valid_pred.long() == valid_label).float().mean())\n",
    "    \n",
    "    train_logger.add_scalar('train/accuracy', np.mean(train_accuracy), global_step=global_step)\n",
    "    valid_logger.add_scalar('valid/accuracy', valid_accuracy, global_step=global_step)"
   ]
  },
  {
   "cell_type": "code",
   "execution_count": null,
   "metadata": {},
   "outputs": [],
   "source": [
    "plot( net2(train_data[train_label==0]).view(-1).cpu().detach().numpy(), '*', label='cats')\n",
    "plot( net2(train_data[train_label==1]).view(-1).cpu().detach().numpy(), '*', label='dogs')\n",
    "legend()"
   ]
  },
  {
   "cell_type": "code",
   "execution_count": null,
   "metadata": {},
   "outputs": [],
   "source": [
    "plot( net2(valid_data[valid_label==0]).view(-1).cpu().detach().numpy(), '*', label='cats')\n",
    "plot( net2(valid_data[valid_label==1]).view(-1).cpu().detach().numpy(), '*', label='dogs')\n",
    "legend()"
   ]
  },
  {
   "cell_type": "code",
   "execution_count": null,
   "metadata": {},
   "outputs": [],
   "source": []
  }
 ],
 "metadata": {
  "kernelspec": {
   "display_name": "Python 3",
   "language": "python",
   "name": "python3"
  },
  "language_info": {
   "codemirror_mode": {
    "name": "ipython",
    "version": 3
   },
   "file_extension": ".py",
   "mimetype": "text/x-python",
   "name": "python",
   "nbconvert_exporter": "python",
   "pygments_lexer": "ipython3",
   "version": "3.6.8"
  }
 },
 "nbformat": 4,
 "nbformat_minor": 2
}
