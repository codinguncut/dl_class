{
 "cells": [
  {
   "cell_type": "code",
   "execution_count": 1,
   "metadata": {},
   "outputs": [
    {
     "name": "stdout",
     "output_type": "stream",
     "text": [
      "%pylab is deprecated, use %matplotlib inline and import the required libraries.\n",
      "Populating the interactive namespace from numpy and matplotlib\n"
     ]
    }
   ],
   "source": [
    "%pylab inline\n",
    "import torch\n",
    "import torchvision\n",
    "from PIL import Image\n",
    "import json\n",
    "class_idx = json.load(open(\"imagenet_class_index.json\"))\n",
    "I1 = Image.open('dog.jpg')\n",
    "I2 = Image.open('cat.jpg')"
   ]
  },
  {
   "cell_type": "code",
   "execution_count": null,
   "metadata": {},
   "outputs": [],
   "source": [
    "model = torchvision.models.resnext101_32x8d(pretrained=True, progress=False)\n",
    "# model = torchvision.models.mobilenet_v2(pretrained=True, progress=False)"
   ]
  },
  {
   "cell_type": "code",
   "execution_count": 4,
   "metadata": {},
   "outputs": [
    {
     "name": "stdout",
     "output_type": "stream",
     "text": [
      "wire-haired_fox_terrier , toy_terrier , Brabancon_griffon , standard_schnauzer , Lakeland_terrier\n",
      "tiger_cat , tabby , Egyptian_cat , lynx , tiger\n"
     ]
    }
   ],
   "source": [
    "transform = torchvision.transforms.Compose([\n",
    "    torchvision.transforms.Resize(224),\n",
    "    torchvision.transforms.CenterCrop(224),\n",
    "    torchvision.transforms.ToTensor(), \n",
    "    torchvision.transforms.Normalize(mean=[0.485, 0.456, 0.406], std=[0.229, 0.224, 0.225])])\n",
    "\n",
    "model.eval()\n",
    "\n",
    "p = model(transform(I1)[None])[0]\n",
    "print( ' , '.join([class_idx[str(int(i))][1] for i in p.argsort(descending=True)[:5]]) )\n",
    "p = model(transform(I2)[None])[0]\n",
    "print( ' , '.join([class_idx[str(int(i))][1] for i in p.argsort(descending=True)[:5]]) )"
   ]
  },
  {
   "cell_type": "code",
   "execution_count": 5,
   "metadata": {},
   "outputs": [],
   "source": [
    "model.fc = torch.nn.Linear(2048, 10)"
   ]
  },
  {
   "cell_type": "code",
   "execution_count": 6,
   "metadata": {},
   "outputs": [
    {
     "ename": "NameError",
     "evalue": "name 'I' is not defined",
     "output_type": "error",
     "traceback": [
      "\u001b[0;31m---------------------------------------------------------------------------\u001b[0m",
      "\u001b[0;31mNameError\u001b[0m                                 Traceback (most recent call last)",
      "Cell \u001b[0;32mIn[6], line 1\u001b[0m\n\u001b[0;32m----> 1\u001b[0m model(transform(\u001b[43mI\u001b[49m)[\u001b[38;5;28;01mNone\u001b[39;00m])\n",
      "\u001b[0;31mNameError\u001b[0m: name 'I' is not defined"
     ]
    }
   ],
   "source": [
    "model(transform(I)[None])"
   ]
  },
  {
   "cell_type": "code",
   "execution_count": null,
   "metadata": {},
   "outputs": [],
   "source": []
  }
 ],
 "metadata": {
  "kernelspec": {
   "display_name": "Python 3 (ipykernel)",
   "language": "python",
   "name": "python3"
  },
  "language_info": {
   "codemirror_mode": {
    "name": "ipython",
    "version": 3
   },
   "file_extension": ".py",
   "mimetype": "text/x-python",
   "name": "python",
   "nbconvert_exporter": "python",
   "pygments_lexer": "ipython3",
   "version": "3.10.13"
  }
 },
 "nbformat": 4,
 "nbformat_minor": 4
}
