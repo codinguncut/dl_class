{
 "cells": [
  {
   "cell_type": "code",
   "execution_count": null,
   "metadata": {},
   "outputs": [],
   "source": [
    "%pylab inline\n",
    "import torch\n",
    "import sys\n",
    "sys.path.append('..')\n",
    "sys.path.append('../..')\n",
    "from data import load\n",
    "train_data, train_label = load.get_dogs_and_cats_data(resize=(32,32), n_images=10)\n",
    "device = torch.device('cuda:2') if torch.cuda.is_available() else torch.device('cpu')\n",
    "print('device = ', device)"
   ]
  },
  {
   "cell_type": "code",
   "execution_count": null,
   "metadata": {},
   "outputs": [],
   "source": [
    "class ConvNet(torch.nn.Module):\n",
    "    def __init__(self, layers=[], n_input_channels=3, kernel_size=3, stride=2):\n",
    "        super().__init__()\n",
    "        L = []\n",
    "        c = n_input_channels\n",
    "        for l in layers:\n",
    "            L.append(torch.nn.Conv2d(c, l, kernel_size, padding=(kernel_size-1)//2, stride=stride))\n",
    "            L.append(torch.nn.ReLU())\n",
    "            c = l\n",
    "        L.append(torch.nn.Conv2d(c, 1, kernel_size=1))\n",
    "        self.layers = torch.nn.Sequential(*L)\n",
    "    \n",
    "    def forward(self, x):\n",
    "        return self.layers(x).mean([1,2,3])\n",
    "\n",
    "net = ConvNet([32,64])"
   ]
  },
  {
   "cell_type": "code",
   "execution_count": null,
   "metadata": {},
   "outputs": [],
   "source": [
    "print( train_data[:1].shape )\n",
    "print( net(train_data[:1]).shape )"
   ]
  },
  {
   "cell_type": "code",
   "execution_count": null,
   "metadata": {},
   "outputs": [],
   "source": [
    "net2 = ConvNet([32,64,128])\n",
    "print( net2(train_data[:1]).shape )"
   ]
  },
  {
   "cell_type": "code",
   "execution_count": null,
   "metadata": {},
   "outputs": [],
   "source": [
    "class ConvNet2(torch.nn.Module):\n",
    "    def __init__(self, layers=[], n_input_channels=3, kernel_size=3, stride=2):\n",
    "        super().__init__()\n",
    "        L = []\n",
    "        c = n_input_channels\n",
    "        for l in layers:\n",
    "            L.append(torch.nn.Conv2d(c, l, kernel_size, padding=(kernel_size-1)//2))\n",
    "            L.append(torch.nn.ReLU())\n",
    "            L.append(torch.nn.MaxPool2d(3, padding=1, stride=stride))\n",
    "            c = l\n",
    "        L.append(torch.nn.Conv2d(c, 1, kernel_size=1))\n",
    "        self.layers = torch.nn.Sequential(*L)\n",
    "    \n",
    "    def forward(self, x):\n",
    "        return self.layers(x).mean([1,2,3])\n",
    "\n",
    "net3 = ConvNet2([32,64,128])"
   ]
  },
  {
   "cell_type": "code",
   "execution_count": null,
   "metadata": {},
   "outputs": [],
   "source": [
    "print( net3(train_data[:1]).shape )"
   ]
  },
  {
   "cell_type": "code",
   "execution_count": null,
   "metadata": {},
   "outputs": [],
   "source": [
    "%load_ext tensorboard\n",
    "import tempfile\n",
    "log_dir = tempfile.mkdtemp()\n",
    "%tensorboard --logdir {log_dir} --reload_interval 1"
   ]
  },
  {
   "cell_type": "code",
   "execution_count": null,
   "metadata": {},
   "outputs": [],
   "source": [
    "from util import train\n",
    "train.train(net2, batch_size=128, resize=(32,32), log_dir=log_dir+'/net2', device=device, n_epochs=100)"
   ]
  },
  {
   "cell_type": "code",
   "execution_count": null,
   "metadata": {},
   "outputs": [],
   "source": [
    "from util import train\n",
    "train.train(net3, batch_size=128, resize=(32,32), log_dir=log_dir+'/net3', device=device, n_epochs=100)"
   ]
  }
 ],
 "metadata": {
  "kernelspec": {
   "display_name": "Python 3",
   "language": "python",
   "name": "python3"
  },
  "language_info": {
   "codemirror_mode": {
    "name": "ipython",
    "version": 3
   },
   "file_extension": ".py",
   "mimetype": "text/x-python",
   "name": "python",
   "nbconvert_exporter": "python",
   "pygments_lexer": "ipython3",
   "version": "3.7.3"
  }
 },
 "nbformat": 4,
 "nbformat_minor": 2
}
