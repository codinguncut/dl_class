{
 "cells": [
  {
   "cell_type": "code",
   "execution_count": null,
   "metadata": {},
   "outputs": [],
   "source": [
    "%pylab inline\n",
    "\n",
    "import json\n",
    "import numpy as np\n",
    "from PIL import Image\n",
    "\n",
    "import torch\n",
    "import torchvision.models as models\n",
    "import torchvision.transforms as transforms\n",
    "device = torch.device('cuda') if torch.cuda.is_available() else torch.device('cpu')"
   ]
  },
  {
   "cell_type": "code",
   "execution_count": null,
   "metadata": {},
   "outputs": [],
   "source": [
    "model = models.resnet18(pretrained=True)\n",
    "model.eval()\n",
    "class_idx = json.load(open(\"network_vis/imagenet_class_index.json\"))"
   ]
  },
  {
   "cell_type": "code",
   "execution_count": null,
   "metadata": {},
   "outputs": [],
   "source": [
    "\n",
    "transform = transforms.Compose([\n",
    "    transforms.Scale(256),\n",
    "    transforms.CenterCrop(224),\n",
    "    transforms.ToTensor(), \n",
    "    transforms.Normalize(mean=[0.485, 0.456, 0.406],\n",
    "                         std=[0.229, 0.224, 0.225])])\n"
   ]
  },
  {
   "cell_type": "code",
   "execution_count": null,
   "metadata": {},
   "outputs": [],
   "source": [
    "image = transform(Image.open('network_vis/dog.jpg'))\n",
    "plt.imshow(plt.imread('network_vis/dog.jpg'))\n",
    "\n",
    "predictions = model(image.unsqueeze(0)).detach().numpy()[0]\n",
    "\n",
    "print('Ranking: class (score)')\n",
    "for i, idx in enumerate(np.argsort(predictions)[-10:][::-1]):\n",
    "    print('%d: %s (%.04f)' % (\n",
    "            i,\n",
    "            class_idx[str(idx)][1], \n",
    "            predictions[idx]))"
   ]
  },
  {
   "cell_type": "code",
   "execution_count": null,
   "metadata": {},
   "outputs": [],
   "source": [
    "def visualize_layer(weight):\n",
    "    fig=plt.figure(figsize=(8, 8))\n",
    "\n",
    "    for i in range(64):\n",
    "        x = weight[i, ...].transpose([1, 2, 0])\n",
    "        x = (x - np.min(x))/np.ptp(x)\n",
    "\n",
    "        fig.add_subplot(8, 8, i + 1)\n",
    "        if x.shape[2] == 3:\n",
    "            imshow(x)\n",
    "        else:\n",
    "            imshow(x[:,:,0])\n",
    "        axis('off')\n",
    "\n",
    "    show()\n",
    "\n",
    "visualize_layer(model.conv1.weight.data.cpu().numpy())\n",
    "visualize_layer(model.layer1[0].conv1.weight.data.cpu().numpy())"
   ]
  },
  {
   "cell_type": "code",
   "execution_count": null,
   "metadata": {},
   "outputs": [],
   "source": [
    "import sys\n",
    "sys.path.append('..')\n",
    "sys.path.append('../..')\n",
    "from data import load\n",
    "valid_data = load.get_dogs_and_cats('valid', resize=None, batch_size=128, is_resnet=True)"
   ]
  },
  {
   "cell_type": "code",
   "execution_count": null,
   "metadata": {},
   "outputs": [],
   "source": [
    "def undo_transform(x):\n",
    "    mean = np.array([0.485, 0.456, 0.406])[np.newaxis, :, np.newaxis, np.newaxis]\n",
    "    std = np.array([0.229, 0.224, 0.225])[np.newaxis, :, np.newaxis, np.newaxis]\n",
    "    return (x * std) + mean\n"
   ]
  },
  {
   "cell_type": "code",
   "execution_count": null,
   "metadata": {},
   "outputs": [],
   "source": [
    "all_data = []\n",
    "C1 = []\n",
    "C2 = []\n",
    "C3 = []\n",
    "\n",
    "def store_activation(L, m, grad_in, grad_out):\n",
    "    L.append(grad_out.detach().cpu().numpy())\n",
    "\n",
    "model.to(device)\n",
    "\n",
    "try:\n",
    "    h1 = model.conv1.register_forward_hook(lambda *args: store_activation(C1, *args))\n",
    "    h2 = model.layer1[0].conv1.register_forward_hook(lambda *args: store_activation(C2, *args))\n",
    "    h3 = model.layer2[0].conv1.register_forward_hook(lambda *args: store_activation(C3, *args))\n",
    "    \n",
    "    for it, (data, label) in enumerate(valid_data):\n",
    "        all_data.append(undo_transform(data.numpy()))\n",
    "        if device is not None:\n",
    "            data, label = data.to(device), label.to(device)\n",
    "        result = model(data)\n",
    "finally:\n",
    "    h1.remove()\n",
    "    h2.remove()\n",
    "    h3.remove()\n",
    "\n",
    "all_data = np.vstack(all_data)\n",
    "C1 = np.vstack(C1)\n",
    "C2 = np.vstack(C2)\n",
    "C3 = np.vstack(C3)"
   ]
  },
  {
   "cell_type": "code",
   "execution_count": null,
   "metadata": {},
   "outputs": [],
   "source": [
    "def to_pil(x):\n",
    "    x = x.transpose((1, 2, 0))\n",
    "    x -= x.min(0).min(0)[None,None]\n",
    "    x /= x.max(0).max(0)[None,None]\n",
    "    return Image.fromarray((x * 255).astype('uint8'))\n",
    "\n",
    "def viz_act(img, act):\n",
    "    \n",
    "    num_acts = len(act)\n",
    "    img = to_pil(img)\n",
    "\n",
    "    fig=plt.figure(figsize=(20, 20))\n",
    "\n",
    "    fig.add_subplot(1, 1+num_acts, 1)\n",
    "    imshow(img)\n",
    "    axis('off')\n",
    "\n",
    "    for i, c in enumerate(act):\n",
    "        fig.add_subplot(1, 1+num_acts, i + 2)\n",
    "        imshow(c)\n",
    "        axis('off')\n",
    "\n",
    "    show()\n",
    "\n",
    "for i in range(3):\n",
    "    viz_act(all_data[i], C1[i, :3])\n",
    "    \n",
    "    \n",
    "for i in range(3):\n",
    "    viz_act(all_data[i], C2[i, :3])\n",
    "    \n",
    "for i in range(3):\n",
    "    viz_act(all_data[i], C3[i, :3])"
   ]
  },
  {
   "cell_type": "code",
   "execution_count": null,
   "metadata": {},
   "outputs": [],
   "source": [
    "def find_max_act(C, filter, W=10, img_size=[224, 224]):\n",
    "    fig=plt.figure(figsize=(8, 8))\n",
    "\n",
    "    filter_act = C[:, filter]\n",
    "    for i, idx in enumerate(np.argsort(-filter_act, axis=None)[:64]):\n",
    "        max_pos = list(np.unravel_index(idx, filter_act.shape))\n",
    "\n",
    "        max_pos[1] = int(max_pos[1] * float(img_size[0]) / filter_act.shape[1])\n",
    "        max_pos[2] = int(max_pos[2] * float(img_size[1]) / filter_act.shape[2])\n",
    "\n",
    "        img = to_pil(all_data[max_pos[0], \n",
    "                              :,\n",
    "                              max(max_pos[1] - W, 0) : max_pos[1] + W,\n",
    "                              max(max_pos[2] - W, 0) : max_pos[2] + W])\n",
    "\n",
    "        fig.add_subplot(8, 8, i + 1)\n",
    "        imshow(img)\n",
    "        axis('off')\n",
    "\n",
    "    show()\n",
    "\n",
    "find_max_act(C1, filter=0, W=4)#, img_size=img.size)\n",
    "find_max_act(C1, filter=1, W=4)#, img_size=img.size)\n",
    "find_max_act(C1, filter=2, W=4)#, img_size=img.size)"
   ]
  },
  {
   "cell_type": "code",
   "execution_count": null,
   "metadata": {},
   "outputs": [],
   "source": [
    "find_max_act(C2, filter=0, W=12)#, img_size=img.size)\n",
    "find_max_act(C2, filter=1, W=12)#, img_size=img.size)\n",
    "find_max_act(C2, filter=2, W=12)#, img_size=img.size)"
   ]
  },
  {
   "cell_type": "code",
   "execution_count": null,
   "metadata": {},
   "outputs": [],
   "source": [
    "find_max_act(C3, filter=0, W=12)#, img_size=img.size)\n",
    "find_max_act(C3, filter=1, W=12)#, img_size=img.size)\n",
    "find_max_act(C3, filter=2, W=12)#, img_size=img.size)"
   ]
  },
  {
   "cell_type": "code",
   "execution_count": null,
   "metadata": {},
   "outputs": [],
   "source": []
  }
 ],
 "metadata": {
  "kernelspec": {
   "display_name": "Python 3",
   "language": "python",
   "name": "python3"
  },
  "language_info": {
   "codemirror_mode": {
    "name": "ipython",
    "version": 3
   },
   "file_extension": ".py",
   "mimetype": "text/x-python",
   "name": "python",
   "nbconvert_exporter": "python",
   "pygments_lexer": "ipython3",
   "version": "3.7.3"
  }
 },
 "nbformat": 4,
 "nbformat_minor": 2
}
