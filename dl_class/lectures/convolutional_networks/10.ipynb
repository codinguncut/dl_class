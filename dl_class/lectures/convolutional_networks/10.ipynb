{
 "cells": [
  {
   "cell_type": "code",
   "execution_count": 1,
   "metadata": {},
   "outputs": [
    {
     "name": "stdout",
     "output_type": "stream",
     "text": [
      "%pylab is deprecated, use %matplotlib inline and import the required libraries.\n",
      "Populating the interactive namespace from numpy and matplotlib\n",
      "device =  cuda\n"
     ]
    }
   ],
   "source": [
    "%pylab inline\n",
    "import torch\n",
    "import sys\n",
    "sys.path.append('..')\n",
    "sys.path.append('../..')\n",
    "from data import load\n",
    "train_data, train_label = load.get_dogs_and_cats_data(resize=(128,128), n_images=10)\n",
    "device = torch.device('cuda') if torch.cuda.is_available() else torch.device('cpu')\n",
    "print('device = ', device)"
   ]
  },
  {
   "cell_type": "code",
   "execution_count": 2,
   "metadata": {},
   "outputs": [],
   "source": [
    "class ConvNet(torch.nn.Module):\n",
    "    class Block(torch.nn.Module):\n",
    "        def __init__(self, n_input, n_output, stride=1):\n",
    "            super().__init__()\n",
    "            self.net = torch.nn.Sequential(\n",
    "              torch.nn.Conv2d(n_input, n_output, kernel_size=3, padding=1, stride=stride),\n",
    "              torch.nn.ReLU(),\n",
    "              torch.nn.Conv2d(n_output, n_output, kernel_size=3, padding=1),\n",
    "              torch.nn.ReLU()\n",
    "            )\n",
    "        \n",
    "        def forward(self, x):\n",
    "            return self.net(x)\n",
    "        \n",
    "    def __init__(self, layers=[32,64,128], n_input_channels=3):\n",
    "        super().__init__()\n",
    "        L = [torch.nn.Conv2d(n_input_channels, 32, kernel_size=7, padding=3, stride=2),\n",
    "             torch.nn.ReLU(),\n",
    "             torch.nn.MaxPool2d(kernel_size=3, stride=2, padding=1)]\n",
    "        c = 32\n",
    "        for l in layers:\n",
    "            L.append(self.Block(c, l, stride=2))\n",
    "            c = l\n",
    "        self.network = torch.nn.Sequential(*L)\n",
    "        self.classifier = torch.nn.Linear(c, 1)\n",
    "    \n",
    "    def forward(self, x):\n",
    "        # Compute the features\n",
    "        z = self.network(x)\n",
    "        # Global average pooling\n",
    "        z = z.mean(dim=[2,3])\n",
    "        # Classify\n",
    "        return self.classifier(z)[:,0]\n",
    "\n",
    "net = ConvNet()"
   ]
  },
  {
   "cell_type": "code",
   "execution_count": 3,
   "metadata": {},
   "outputs": [
    {
     "name": "stdout",
     "output_type": "stream",
     "text": [
      "tensor([0.0218], grad_fn=<SelectBackward0>)\n"
     ]
    }
   ],
   "source": [
    "z = net(train_data[:1])\n",
    "print(z)"
   ]
  },
  {
   "cell_type": "code",
   "execution_count": 4,
   "metadata": {},
   "outputs": [
    {
     "data": {
      "text/html": [
       "\n",
       "      <iframe id=\"tensorboard-frame-bc52e78366edffa8\" width=\"100%\" height=\"800\" frameborder=\"0\">\n",
       "      </iframe>\n",
       "      <script>\n",
       "        (function() {\n",
       "          const frame = document.getElementById(\"tensorboard-frame-bc52e78366edffa8\");\n",
       "          const url = new URL(\"/\", window.location);\n",
       "          const port = 6007;\n",
       "          if (port) {\n",
       "            url.port = port;\n",
       "          }\n",
       "          frame.src = url;\n",
       "        })();\n",
       "      </script>\n",
       "    "
      ],
      "text/plain": [
       "<IPython.core.display.HTML object>"
      ]
     },
     "metadata": {},
     "output_type": "display_data"
    }
   ],
   "source": [
    "%load_ext tensorboard\n",
    "import tempfile\n",
    "log_dir = tempfile.mkdtemp()\n",
    "%tensorboard --logdir {log_dir} --reload_interval 1"
   ]
  },
  {
   "cell_type": "code",
   "execution_count": 5,
   "metadata": {},
   "outputs": [
    {
     "name": "stderr",
     "output_type": "stream",
     "text": [
      "WARNING:root:loading dataset\n",
      "WARNING:root:loading done\n"
     ]
    },
    {
     "data": {
      "application/vnd.jupyter.widget-view+json": {
       "model_id": "68f374d8e81f407887a5dbd79775a384",
       "version_major": 2,
       "version_minor": 0
      },
      "text/plain": [
       "  0%|          | 0/100 [00:00<?, ?it/s]"
      ]
     },
     "metadata": {},
     "output_type": "display_data"
    }
   ],
   "source": [
    "from util import train\n",
    "train.train(net, batch_size=128, resize=(128,128), log_dir=log_dir, device=device, n_epochs=100)"
   ]
  },
  {
   "cell_type": "code",
   "execution_count": null,
   "metadata": {},
   "outputs": [],
   "source": []
  }
 ],
 "metadata": {
  "kernelspec": {
   "display_name": "Python 3 (ipykernel)",
   "language": "python",
   "name": "python3"
  },
  "language_info": {
   "codemirror_mode": {
    "name": "ipython",
    "version": 3
   },
   "file_extension": ".py",
   "mimetype": "text/x-python",
   "name": "python",
   "nbconvert_exporter": "python",
   "pygments_lexer": "ipython3",
   "version": "3.10.13"
  }
 },
 "nbformat": 4,
 "nbformat_minor": 4
}
