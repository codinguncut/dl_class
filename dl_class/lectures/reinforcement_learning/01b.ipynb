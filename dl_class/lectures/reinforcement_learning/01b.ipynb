{
 "cells": [
  {
   "cell_type": "code",
   "execution_count": null,
   "metadata": {},
   "outputs": [],
   "source": [
    "%pylab inline\n",
    "import torch\n",
    "import sys, os\n",
    "import pystk\n",
    "device = torch.device('cuda') if torch.cuda.is_available() else torch.device('cpu')\n",
    "print('device = ', device)"
   ]
  },
  {
   "cell_type": "code",
   "execution_count": null,
   "metadata": {},
   "outputs": [],
   "source": [
    "class Rollout:\n",
    "    def __init__(self, screen_width, screen_height, hd=True, track='lighthouse', render=True):\n",
    "        # Init supertuxkart\n",
    "        if not render:\n",
    "            config = pystk.GraphicsConfig.none()\n",
    "        elif hd:\n",
    "            config = pystk.GraphicsConfig.hd()\n",
    "        else:\n",
    "            config = pystk.GraphicsConfig.ld()\n",
    "        config.screen_width = screen_width\n",
    "        config.screen_height = screen_height\n",
    "        pystk.init(config)\n",
    "        \n",
    "        self.render = render\n",
    "        race_config = pystk.RaceConfig(track=track)\n",
    "        self.race = pystk.Race(race_config)\n",
    "        self.race.start()\n",
    "    \n",
    "    def __call__(self, agent, n_steps=200):\n",
    "        self.race.restart()\n",
    "        self.race.step()\n",
    "        data = []\n",
    "        track_info = pystk.Track()\n",
    "        track_info.update()\n",
    "\n",
    "        for i in range(n_steps):\n",
    "            world_info = pystk.WorldState()\n",
    "            world_info.update()\n",
    "\n",
    "            # Gather world information\n",
    "            kart_info = world_info.players[0].kart\n",
    "\n",
    "            agent_data = {'track_info': track_info, 'kart_info': kart_info}\n",
    "            if self.render:\n",
    "                agent_data['image'] = np.array(self.race.render_data[0].image)\n",
    "\n",
    "            # Act\n",
    "            action = agent(**agent_data)\n",
    "            agent_data['action'] = action\n",
    "\n",
    "            # Take a step in the simulation\n",
    "            self.race.step(action)\n",
    "\n",
    "            # Save all the relevant data\n",
    "            data.append(agent_data)\n",
    "        return data"
   ]
  },
  {
   "cell_type": "code",
   "execution_count": null,
   "metadata": {},
   "outputs": [],
   "source": [
    "def dummy_agent(**kwargs):\n",
    "    action = pystk.Action()\n",
    "    action.acceleration = 1\n",
    "    return action"
   ]
  },
  {
   "cell_type": "code",
   "execution_count": null,
   "metadata": {},
   "outputs": [],
   "source": [
    "rollout = Rollout(800, 600)\n",
    "\n",
    "def rollout_many(many_agents, **kwargs):\n",
    "    for agent in many_agents:\n",
    "        yield rollout(agent, **kwargs)\n",
    "\n",
    "data = rollout(dummy_agent)"
   ]
  },
  {
   "cell_type": "code",
   "execution_count": null,
   "metadata": {},
   "outputs": [],
   "source": [
    "def show_video(frames, fps=30):\n",
    "    import imageio\n",
    "    from IPython.display import Video, display \n",
    "    \n",
    "    imageio.mimwrite('/tmp/test.mp4', frames, fps=fps, bitrate=10000000)\n",
    "    display(Video('/tmp/test.mp4', width=800, height=600, embed=True))\n",
    "\n",
    "show_video([d['image'] for d in data])"
   ]
  },
  {
   "cell_type": "code",
   "execution_count": null,
   "metadata": {},
   "outputs": [],
   "source": [
    "def show_agent(agent, **kwargs):\n",
    "    data = rollout(agent, **kwargs)\n",
    "    show_video([d['image'] for d in data])"
   ]
  },
  {
   "cell_type": "code",
   "execution_count": null,
   "metadata": {
    "scrolled": false
   },
   "outputs": [],
   "source": [
    "def less_dummy_agent(**kwargs):\n",
    "    action = pystk.Action()\n",
    "    action.acceleration = 1\n",
    "    action.steer = -0.6\n",
    "    return action\n",
    "show_agent(less_dummy_agent)"
   ]
  },
  {
   "cell_type": "code",
   "execution_count": null,
   "metadata": {},
   "outputs": [],
   "source": [
    "# Let's load a fancy auto-pilot. You'll write one yourself in your homework.\n",
    "from _auto_pilot import auto_pilot\n",
    "\n",
    "show_agent(auto_pilot, n_steps=600)"
   ]
  },
  {
   "cell_type": "code",
   "execution_count": null,
   "metadata": {},
   "outputs": [],
   "source": []
  }
 ],
 "metadata": {
  "kernelspec": {
   "display_name": "Python 3",
   "language": "python",
   "name": "python3"
  },
  "language_info": {
   "codemirror_mode": {
    "name": "ipython",
    "version": 3
   },
   "file_extension": ".py",
   "mimetype": "text/x-python",
   "name": "python",
   "nbconvert_exporter": "python",
   "pygments_lexer": "ipython3",
   "version": "3.8.10"
  }
 },
 "nbformat": 4,
 "nbformat_minor": 2
}