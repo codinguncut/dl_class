{
 "cells": [
  {
   "cell_type": "code",
   "execution_count": null,
   "metadata": {},
   "outputs": [],
   "source": [
    "import torch"
   ]
  },
  {
   "cell_type": "code",
   "execution_count": null,
   "metadata": {},
   "outputs": [],
   "source": [
    "class ConvNet(torch.nn.Module):\n",
    "    class Block(torch.nn.Module):\n",
    "        def __init__(self, n_input, n_output, stride=1):\n",
    "            super().__init__()\n",
    "            self.net = torch.nn.Sequential(\n",
    "              torch.nn.Conv2d(n_input, n_output, kernel_size=3, padding=1, stride=stride),\n",
    "              torch.nn.ReLU(),\n",
    "              torch.nn.Conv2d(n_output, n_output, kernel_size=3, padding=1),\n",
    "              torch.nn.ReLU()\n",
    "            )\n",
    "            torch.nn.init.xavier_normal_(self.net[0].weight)\n",
    "            torch.nn.init.constant_(self.net[0].bias, 0.1)\n",
    "        \n",
    "        def forward(self, x):\n",
    "            return self.net(x)\n",
    "        \n",
    "    def __init__(self, layers=[32,64,128], n_input_channels=3):\n",
    "        super().__init__()\n",
    "        L = [torch.nn.Conv2d(n_input_channels, 32, kernel_size=7, padding=3, stride=2),\n",
    "             torch.nn.ReLU(),\n",
    "             torch.nn.MaxPool2d(kernel_size=3, stride=2, padding=1)]\n",
    "        c = 32\n",
    "        for l in layers:\n",
    "            L.append(self.Block(c, l, stride=2))\n",
    "            c = l\n",
    "        self.network = torch.nn.Sequential(*L)\n",
    "        self.classifier = torch.nn.Linear(c, 1)\n",
    "        \n",
    "        # Initialize the weights\n",
    "        torch.nn.init.zeros_(self.classifier.weight)\n",
    "        torch.nn.init.xavier_normal_(self.network[0].weight)\n",
    "        torch.nn.init.constant_(self.network[0].bias, 0.1)\n",
    "    \n",
    "    def forward(self, x):\n",
    "        # Compute the features\n",
    "        z = self.network(x)\n",
    "        # Global average pooling\n",
    "        z = z.mean(dim=[2,3])\n",
    "        # Classify\n",
    "        return self.classifier(z)[:,0]"
   ]
  },
  {
   "cell_type": "code",
   "execution_count": null,
   "metadata": {},
   "outputs": [],
   "source": [
    "net = ConvNet()\n",
    "print(net.network[0].weight, net.network[0].bias)\n",
    "print()\n",
    "print(net.classifier.weight, net.classifier.bias)"
   ]
  },
  {
   "cell_type": "code",
   "execution_count": null,
   "metadata": {},
   "outputs": [],
   "source": []
  }
 ],
 "metadata": {
  "kernelspec": {
   "display_name": "Python 3",
   "language": "python",
   "name": "python3"
  },
  "language_info": {
   "codemirror_mode": {
    "name": "ipython",
    "version": 3
   },
   "file_extension": ".py",
   "mimetype": "text/x-python",
   "name": "python",
   "nbconvert_exporter": "python",
   "pygments_lexer": "ipython3",
   "version": "3.7.3"
  }
 },
 "nbformat": 4,
 "nbformat_minor": 2
}
