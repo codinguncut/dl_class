{
 "cells": [
  {
   "cell_type": "code",
   "execution_count": null,
   "metadata": {},
   "outputs": [],
   "source": [
    "%pylab inline\n",
    "import numpy as np\n",
    "from sklearn import linear_model\n",
    "cls = linear_model.SGDClassifier(max_iter=1000)\n",
    "\n",
    "# Some sklearn versions spam warnings\n",
    "import warnings\n",
    "warnings.simplefilter(action='ignore', category=FutureWarning)"
   ]
  },
  {
   "cell_type": "code",
   "execution_count": null,
   "metadata": {},
   "outputs": [],
   "source": [
    "def separate_points(N=2000, d=2):\n",
    "    X = np.random.normal(0,1,size=(N, d))\n",
    "    y = np.random.rand(N) >= 0.8\n",
    "\n",
    "    # Fit the first classifier\n",
    "    cls.fit(X, y)\n",
    "    # Let's project all points along the decision boundary of the first classifier\n",
    "    p1 = cls.coef_ / np.linalg.norm(cls.coef_)\n",
    "    d1 = X.dot(p1.T)\n",
    "    score = cls.score(X, y)\n",
    "\n",
    "    cls.fit(X - d1*p1, y)\n",
    "    p2 = cls.coef_ / np.linalg.norm(cls.coef_)\n",
    "    d2 = X.dot(p2.T)\n",
    "\n",
    "    figure(figsize=(10,5))\n",
    "    subplot(1,2,1)\n",
    "    scatter(*X[:,:2].T, c=y.flat, cmap='Paired')\n",
    "    axis('equal')\n",
    "    subplot(1,2,2)\n",
    "    scatter(d1.flat, d2.flat, c=y.flat, cmap='Paired')\n",
    "    axis('equal')\n",
    "\n",
    "    print( score )\n",
    "separate_points(2000, 2)"
   ]
  },
  {
   "cell_type": "code",
   "execution_count": null,
   "metadata": {},
   "outputs": [],
   "source": [
    "separate_points(4000, 1000)"
   ]
  },
  {
   "cell_type": "code",
   "execution_count": null,
   "metadata": {},
   "outputs": [],
   "source": [
    "def plot_sep(d=2, N=[10,25,50,100,250,500,1000,2000]):\n",
    "    S = []\n",
    "    mnS, mxS = [], []\n",
    "    for n in N:\n",
    "        s = []\n",
    "        for it in range(5000 // n + 1):\n",
    "            X = np.random.normal(0,1,size=(n, d))\n",
    "            y = np.random.rand(n)\n",
    "            y = y > np.median(y)\n",
    "\n",
    "            # Fit the first classifier\n",
    "            s.append( cls.fit(X, y).score(X,y) )\n",
    "        S.append(np.mean(s))\n",
    "#         mnS.append(np.min(s))\n",
    "#         mxS.append(np.max(s))\n",
    "        mnS.append(np.mean(s) - np.std(s))\n",
    "        mxS.append(np.mean(s) + np.std(s))\n",
    "    fill_between(N, mnS, mxS, alpha=0.5)\n",
    "    plot(N,S, label='d = %d'%d)\n",
    "    xlabel('# data points')\n",
    "    ylabel('classification accuracy')\n",
    "    xscale('log')\n",
    "    legend()\n",
    "\n",
    "figure(figsize=(10,10))\n",
    "plot_sep(2)\n",
    "plot_sep(10)\n",
    "plot_sep(100)\n",
    "plot_sep(1000)\n",
    "plot_sep(32*32*3)"
   ]
  },
  {
   "cell_type": "code",
   "execution_count": null,
   "metadata": {},
   "outputs": [],
   "source": [
    "224*224*3"
   ]
  },
  {
   "cell_type": "code",
   "execution_count": null,
   "metadata": {},
   "outputs": [],
   "source": []
  }
 ],
 "metadata": {
  "kernelspec": {
   "display_name": "Python 3",
   "language": "python",
   "name": "python3"
  },
  "language_info": {
   "codemirror_mode": {
    "name": "ipython",
    "version": 3
   },
   "file_extension": ".py",
   "mimetype": "text/x-python",
   "name": "python",
   "nbconvert_exporter": "python",
   "pygments_lexer": "ipython3",
   "version": "3.7.3"
  }
 },
 "nbformat": 4,
 "nbformat_minor": 2
}
